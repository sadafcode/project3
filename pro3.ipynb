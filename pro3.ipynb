{
  "nbformat": 4,
  "nbformat_minor": 0,
  "metadata": {
    "colab": {
      "provenance": [],
      "authorship_tag": "ABX9TyNJu/0WRxzcaiWE8YR3lmTO",
      "include_colab_link": true
    },
    "kernelspec": {
      "name": "python3",
      "display_name": "Python 3"
    },
    "language_info": {
      "name": "python"
    }
  },
  "cells": [
    {
      "cell_type": "markdown",
      "metadata": {
        "id": "view-in-github",
        "colab_type": "text"
      },
      "source": [
        "<a href=\"https://colab.research.google.com/github/sadafcode/project3/blob/main/pro3.ipynb\" target=\"_parent\"><img src=\"https://colab.research.google.com/assets/colab-badge.svg\" alt=\"Open In Colab\"/></a>"
      ]
    },
    {
      "cell_type": "code",
      "execution_count": 4,
      "metadata": {
        "colab": {
          "base_uri": "https://localhost:8080/"
        },
        "id": "qtsvZyp9SWLZ",
        "outputId": "93402a0a-8e01-435d-c9d1-5acf83ffec23"
      },
      "outputs": [
        {
          "output_type": "stream",
          "name": "stdout",
          "text": [
            "Is 3 is too high(h),or too low(l) or correct(c)?? l\n",
            "Is 13 is too high(h),or too low(l) or correct(c)?? l\n",
            "Is 22 is too high(h),or too low(l) or correct(c)?? h\n",
            "Is 21 is too high(h),or too low(l) or correct(c)?? h\n",
            "Is 19 is too high(h),or too low(l) or correct(c)?? h\n",
            "Is 16 is too high(h),or too low(l) or correct(c)?? h\n",
            "Is 14 is too high(h),or too low(l) or correct(c)?? l\n",
            "Is 15 is too high(h),or too low(l) or correct(c)?? c\n",
            "yay! computer guesses my number 15 correctly\n"
          ]
        }
      ],
      "source": [
        "import random\n",
        "def computer_guess(x):\n",
        "     low = 1\n",
        "     high = x\n",
        "     feedback = \"\"\n",
        "     while feedback != \"c\":\n",
        "         if feedback != high:\n",
        "           guess = random.randint(low,high)\n",
        "         else:\n",
        "             guess =low\n",
        "         feedback = input(f'Is {guess} is too high(h),or too low(l) or correct(c)?? ')\n",
        "         if feedback == \"h\":\n",
        "             high = guess - 1\n",
        "         elif feedback == \"l\":\n",
        "             low = guess + 1\n",
        "     print(f'yay! computer guesses my number {guess} correctly')\n",
        "computer_guess(30)"
      ]
    }
  ]
}